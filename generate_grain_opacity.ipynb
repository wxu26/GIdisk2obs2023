{
 "cells": [
  {
   "cell_type": "markdown",
   "id": "6649cd52",
   "metadata": {},
   "source": [
    "# Save grain opacity (as a function of T, grain size, and wavelength)"
   ]
  },
  {
   "cell_type": "code",
   "execution_count": 1,
   "id": "c76c1e5a",
   "metadata": {},
   "outputs": [],
   "source": [
    "from util import *\n",
    "from interp_table import InterpTable\n",
    "import dsharp_opac # this can be installed from https://github.com/birnstiel/dsharp_opac\n",
    "import pickle"
   ]
  },
  {
   "cell_type": "markdown",
   "id": "b70acf1f",
   "metadata": {},
   "source": [
    "## Step 1. Compute opacity tables with the DSHARP package\n",
    "\n",
    "To change resolution of the table (in grain size and wavelength) or cover different ranges of parameters, update the computation grid below."
   ]
  },
  {
   "cell_type": "code",
   "execution_count": 7,
   "id": "fe3ed477-f4d1-4dd0-940d-b127bf5c5277",
   "metadata": {},
   "outputs": [],
   "source": [
    "# only set to true when computing grain properties for the first time\n",
    "# or when you want to update grain properties (e.g., use a different grid)\n",
    "compute_mie = False\n",
    "\n",
    "# gird for computing grain properties\n",
    "# grain size grid\n",
    "a_min = 1e-7 # 0.1 um\n",
    "a_max = 10 # 10 cm\n",
    "N_a = 161 # 20 points per order of magnitude\n",
    "a_grid = np.logspace(np.log10(a_min),np.log10(a_max),N_a)\n",
    "# wavelength grid\n",
    "lam_min = 1e-5 # 1000K=0.0002898cm, choose lam_min << this\n",
    "lam_max = 10 # 10K = 0.02898cm, choose lam_max >> this and > max observed wavelength\n",
    "N_lam = 121 # 20 points per order of magnitude\n",
    "lam_grid = np.logspace(np.log10(lam_min),np.log10(lam_max),N_lam)"
   ]
  },
  {
   "cell_type": "code",
   "execution_count": 4,
   "id": "f9c222de",
   "metadata": {},
   "outputs": [
    {
     "name": "stdout",
     "output_type": "stream",
     "text": [
      "Please cite Warren & Brandt (2008) when using these optical constants\n",
      "Please cite Draine 2003 when using these optical constants\n",
      "Reading opacities from troilitek\n",
      "Please cite Henning & Stognienko (1996) when using these optical constants\n",
      "Reading opacities from organicsk\n",
      "Please cite Henning & Stognienko (1996) when using these optical constants\n",
      "Mie ... Done!\n",
      "Mie ... Done!\n",
      "Mie ... Done!\n",
      "Mie ... Done!\n"
     ]
    }
   ],
   "source": [
    "if compute_mie:\n",
    "    # dust grain compoistion following Birnstiel et al. 2018\n",
    "    # the four species:\n",
    "    # water, scilicate, troilite, refractory organics\n",
    "    N_composition = 4\n",
    "    rho_grain = np.array([0.92, 3.30, 4.83, 1.50])\n",
    "    mass_frac = np.array([0.2, 0.3291, 0.0743, 0.3966])\n",
    "    vol_frac = np.array([0.3642, 0.1670, 0.0258, 0.4430])\n",
    "\n",
    "    # sublimation temperature from Pollack et al. 1994\n",
    "    T_crit = np.array([150, 425, 680, 1200])\n",
    "\n",
    "    diel_constants = [dsharp_opac.diel_warrenbrandt08(),\n",
    "                      dsharp_opac.diel_draine2003(species='astrosilicates'),\n",
    "                      dsharp_opac.diel_henning('troilite'),\n",
    "                      dsharp_opac.diel_henning('organics', refractory=True),\n",
    "                     ]\n",
    "\n",
    "    species_exists = [[1,1,1,1],\n",
    "                      [0,1,1,1],\n",
    "                      [0,1,1,0],\n",
    "                      [0,1,0,0]]\n",
    "    # species_exits[i,j] = species j exists in temperature range i\n",
    "    species_exists = np.array(species_exists)\n",
    "    rho_grain_eff = np.zeros(N_composition)\n",
    "    mass_ratio_after_subl = np.ones(N_composition)\n",
    "    mixed_diel_constants = [None]*N_composition\n",
    "    for i in range(N_composition):\n",
    "        mass_ratio_after_subl[i] = np.sum(mass_frac*species_exists[i])\n",
    "        current_vol_frac = vol_frac*species_exists[i]\n",
    "        current_vol_frac = current_vol_frac/np.sum(current_vol_frac)\n",
    "        rho_grain_eff[i] = np.sum(current_vol_frac*rho_grain)\n",
    "        mixed_diel_constants[i] = dsharp_opac.diel_mixed(constants=diel_constants,\n",
    "                                  abundances=current_vol_frac,\n",
    "                                  rule='Bruggeman')\n",
    "        mixed_diel_constants[i] = mixed_diel_constants[i].get_normal_object()\n",
    "\n",
    "    mie_data_package = [None]*N_composition\n",
    "    for i in range(N_composition):\n",
    "        mie_data_package[i] = dsharp_opac.get_mie_coefficients(\n",
    "            a_grid, lam_grid, mixed_diel_constants[i],\n",
    "            nang=3, extrapolate_large_grains=True) # nang follows the default value in dsharp_opac\n",
    "\n",
    "    kappa   = [None]*N_composition # abroption opacity\n",
    "    kappa_s = [None]*N_composition # scattering opacity\n",
    "    g       = [None]*N_composition # asymmetry factor\n",
    "    for i in range(N_composition):\n",
    "        m = 4*np.pi/3 * a_grid**3 * rho_grain_eff[i]\n",
    "        kappa_both = dsharp_opac.get_kappa_from_q(\n",
    "            a_grid, m,\n",
    "            mie_data_package[i]['q_abs'],\n",
    "            mie_data_package[i]['q_sca'],\n",
    "        )\n",
    "        kappa[i] = kappa_both[0]\n",
    "        kappa_s[i] = kappa_both[1]\n",
    "        g[i] = mie_data_package[i]['g']"
   ]
  },
  {
   "cell_type": "code",
   "execution_count": 5,
   "id": "4b30c97a-9a52-4d44-b2e2-92c2a85bb1fa",
   "metadata": {},
   "outputs": [],
   "source": [
    "if compute_mie:\n",
    "    grain_properties = {}\n",
    "    grain_properties['a_grid'] = a_grid\n",
    "    grain_properties['lam_grid'] = lam_grid\n",
    "    grain_properties['kappa'] = kappa\n",
    "    grain_properties['kappa_s'] = kappa_s\n",
    "    grain_properties['g'] = g\n",
    "    grain_properties['T_crit'] = T_crit\n",
    "    grain_properties['mass_ratio_after_subl'] = mass_ratio_after_subl\n",
    "    pickle.dump(grain_properties, open('./data/opacity_tables/grain_properties.pkl', 'wb'))"
   ]
  },
  {
   "cell_type": "code",
   "execution_count": 6,
   "id": "676d6b89",
   "metadata": {},
   "outputs": [],
   "source": [
    "grain_properties = pickle.load(open('./data/opacity_tables/grain_properties.pkl', 'rb'))\n",
    "a_grid = grain_properties['a_grid']\n",
    "lam_grid = grain_properties['lam_grid']\n",
    "kappa = grain_properties['kappa']\n",
    "kappa_s = grain_properties['kappa_s']\n",
    "g = grain_properties['g']\n",
    "T_crit = grain_properties['T_crit']\n",
    "mass_ratio_after_subl = grain_properties['mass_ratio_after_subl']\n",
    "N_composition = 4"
   ]
  },
  {
   "cell_type": "markdown",
   "id": "8ae7dd14",
   "metadata": {},
   "source": [
    "## Setp 2. save results to an interpolatipon table"
   ]
  },
  {
   "cell_type": "code",
   "execution_count": 8,
   "id": "ef40c1ac",
   "metadata": {},
   "outputs": [
    {
     "name": "stdout",
     "output_type": "stream",
     "text": [
      "InterpTable object with 3 dims\n",
      "Axes:\n",
      "  [0] log_T, length=8\n",
      "  [1] log_a, length=161\n",
      "  [2] log_lam, length=121\n",
      "Data fields, shape=[8, 161, 121]:\n",
      "  log_kappa_abs\n",
      "  log_kappa_sca\n",
      "  log_kappa_sca_eff\n",
      "  g\n",
      "  log_mass_fraction\n"
     ]
    }
   ],
   "source": [
    "T_grid = np.sort(np.concatenate((T_crit-small_number, T_crit+small_number)))\n",
    "\n",
    "grain_opacity = InterpTable()\n",
    "\n",
    "grain_opacity.add_grid('log_T', np.log(T_grid))\n",
    "grain_opacity.add_grid('log_a', np.log(a_grid))\n",
    "grain_opacity.add_grid('log_lam', np.log(lam_grid))\n",
    "\n",
    "grain_opacity.add_data('log_kappa_abs') # absorption opacity\n",
    "grain_opacity.add_data('log_kappa_sca') # scattering opacity\n",
    "grain_opacity.add_data('log_kappa_sca_eff') # effective scattering opacity\n",
    "grain_opacity.add_data('g') # forward scattering paramater g (this can be negative)\n",
    "grain_opacity.add_data('log_mass_fraction') # mass ratio after sublimation\n",
    "\n",
    "for j in range(N_composition*2):\n",
    "    i = (j+1)//2\n",
    "    if i>=N_composition: i=N_composition-1\n",
    "    grain_opacity.data['log_kappa_abs'][j] = np.log(kappa[i])\n",
    "    grain_opacity.data['log_kappa_sca'][j] = np.log(kappa_s[i])\n",
    "    grain_opacity.data['log_kappa_sca_eff'][j] = np.log(kappa_s[i]*(1-g[i]))\n",
    "    grain_opacity.data['g'][j] = g[i]\n",
    "    grain_opacity.data['log_mass_fraction'][j] = np.log(mass_ratio_after_subl[i])\n",
    "grain_opacity.data['log_mass_fraction'][-1] = np.log(small_number)\n",
    "\n",
    "grain_opacity.create_interp_fn_all_data()\n",
    "\n",
    "print(grain_opacity)"
   ]
  },
  {
   "cell_type": "code",
   "execution_count": 10,
   "id": "3f290d0b",
   "metadata": {},
   "outputs": [],
   "source": [
    "update_grain_opacity = False\n",
    "if update_grain_opacity:\n",
    "    pickle.dump(grain_opacity, open('./data/opacity_tables/grain_opacity.pkl','wb'))"
   ]
  },
  {
   "cell_type": "code",
   "execution_count": null,
   "id": "3981d6a5",
   "metadata": {},
   "outputs": [],
   "source": []
  }
 ],
 "metadata": {
  "kernelspec": {
   "display_name": "Python 3 (ipykernel)",
   "language": "python",
   "name": "python3"
  },
  "language_info": {
   "codemirror_mode": {
    "name": "ipython",
    "version": 3
   },
   "file_extension": ".py",
   "mimetype": "text/x-python",
   "name": "python",
   "nbconvert_exporter": "python",
   "pygments_lexer": "ipython3",
   "version": "3.11.4"
  }
 },
 "nbformat": 4,
 "nbformat_minor": 5
}
