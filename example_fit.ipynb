{
 "cells": [
  {
   "cell_type": "markdown",
   "id": "b0440e11-51cc-4f93-9525-c1b5eb893c35",
   "metadata": {},
   "source": [
    "### Initialize disk fitting object (D from TMC1A_fitting.py)"
   ]
  },
  {
   "cell_type": "code",
   "execution_count": null,
   "id": "47c18be2-7296-44df-a4ca-822fbf4c0da0",
   "metadata": {},
   "outputs": [],
   "source": [
    "from TMC1A_fitting import *\n",
    "from analysis import generate_uncertainty_and_effective_beam_size_v2\n",
    "import emcee\n",
    "from multiprocess import Pool"
   ]
  },
  {
   "cell_type": "markdown",
   "id": "1457702e-979e-474f-a36d-c1feb6ccf32e",
   "metadata": {},
   "source": [
    "### Update observation uncertainty (Xu+2023 Appendix A, Eq. A5)"
   ]
  },
  {
   "cell_type": "code",
   "execution_count": null,
   "id": "3dcefe6d",
   "metadata": {},
   "outputs": [],
   "source": [
    "# Aso21\n",
    "inc = 53\n",
    "pa = 75\n",
    "cosI = np.cos(inc/180*pi)\n",
    "\n",
    "for i in range(4):\n",
    "    I = D.disk_image_list[i]\n",
    "    I.disk_pa = pa\n",
    "    generate_uncertainty_and_effective_beam_size_v2(I, cosI)"
   ]
  },
  {
   "cell_type": "markdown",
   "id": "8a9a6c14",
   "metadata": {},
   "source": [
    "# MCMC\n",
    "\n",
    "### fiducial: bound Q to [1,2]"
   ]
  },
  {
   "cell_type": "code",
   "execution_count": null,
   "id": "7e50a215",
   "metadata": {},
   "outputs": [],
   "source": [
    "bounds['Q10'] = [1,2]\n",
    "bounds['Q100'] = [1,2]\n",
    "def get_log_probability_constrainQ(theta):\n",
    "    Rd = np.exp(theta[2+var_names.index('Rd')])/au\n",
    "    Q10 = np.exp(theta[2+var_names.index('Q10')])\n",
    "    Q100 = np.exp(theta[2+var_names.index('Q100')])\n",
    "    Qs = np.log(Q100/Q10)/np.log(10)\n",
    "    Q5 = Q10*.5**Qs\n",
    "    Qd = Q10*(Rd/10)**Qs\n",
    "    if Q5<1 or Q5>2 or Qd<1 or Qd>2:\n",
    "        return -np.inf\n",
    "    return get_log_probability(theta, weights=None, Mp_prior=True)\n",
    "ic = get_MCMC_ic(nwalkers=128,sigma_log_model=True)"
   ]
  },
  {
   "cell_type": "code",
   "execution_count": null,
   "id": "9f1560ee",
   "metadata": {},
   "outputs": [],
   "source": [
    "if True:\n",
    "    with warnings.catch_warnings():\n",
    "        warnings.simplefilter(\"ignore\")\n",
    "        sampler_par = emcee.EnsembleSampler(\n",
    "            ic.shape[0], ic.shape[1], get_log_probability_constrainQ,\n",
    "            pool = Pool(8)\n",
    "        )\n",
    "        _ = sampler_par.run_mcmc(ic, 100, progress=True)\n",
    "    pickle.dump(sampler_par, open('./sampler_GI_newimg_w128_s100.pkl','wb'))"
   ]
  },
  {
   "cell_type": "code",
   "execution_count": null,
   "id": "3069ee48",
   "metadata": {},
   "outputs": [],
   "source": [
    "bounds['Q10'] = [1,2]\n",
    "bounds['Q100'] = [1,2]\n",
    "if True:\n",
    "    with warnings.catch_warnings():\n",
    "        warnings.simplefilter(\"ignore\")\n",
    "        sampler_par = pickle.load(open('./sampler_GI_newimg_w128_s100.pkl','rb'))\n",
    "        sampler_par.pool = Pool(8)\n",
    "        _ = sampler_par.run_mcmc(None, 400, progress=True)\n",
    "        pickle.dump(sampler_par, open('./sampler_GI_newimg_w128_s500.pkl','wb'))"
   ]
  },
  {
   "cell_type": "code",
   "execution_count": null,
   "id": "227c6648",
   "metadata": {},
   "outputs": [],
   "source": [
    "bounds['Q10'] = [1,2]\n",
    "bounds['Q100'] = [1,2]\n",
    "if True:\n",
    "    with warnings.catch_warnings():\n",
    "        warnings.simplefilter(\"ignore\")\n",
    "        sampler_par = pickle.load(open('./sampler_GI_newimg_w128_s500.pkl','rb'))\n",
    "        sampler_par.pool = Pool(8)\n",
    "        _ = sampler_par.run_mcmc(None, 500, progress=True)\n",
    "        pickle.dump(sampler_par, open('./sampler_GI_newimg_w128_s1000.pkl','wb'))"
   ]
  },
  {
   "cell_type": "markdown",
   "id": "0b278cc4",
   "metadata": {},
   "source": [
    "### No assumption on Q"
   ]
  },
  {
   "cell_type": "code",
   "execution_count": null,
   "id": "018e7766",
   "metadata": {},
   "outputs": [],
   "source": [
    "bounds['Q10'] = [.1,1e3]\n",
    "bounds['Q100'] = [.1,1e3]\n",
    "ic = get_MCMC_ic(nwalkers=128,sigma_log_model=True)"
   ]
  },
  {
   "cell_type": "code",
   "execution_count": null,
   "id": "3dd15c8e",
   "metadata": {},
   "outputs": [],
   "source": [
    "if True:\n",
    "    with warnings.catch_warnings():\n",
    "        warnings.simplefilter(\"ignore\")\n",
    "        sampler_par = emcee.EnsembleSampler(\n",
    "            ic.shape[0], ic.shape[1], get_log_probability,\n",
    "            args=(None,True,),\n",
    "            pool = Pool(8)\n",
    "        )\n",
    "        _ = sampler_par.run_mcmc(ic, 100, progress=True)\n",
    "        pickle.dump(sampler_par, open('./sampler_noGI_newimg_w128_s100.pkl','wb'))"
   ]
  },
  {
   "cell_type": "code",
   "execution_count": null,
   "id": "3a85a537",
   "metadata": {},
   "outputs": [],
   "source": [
    "if True:\n",
    "    with warnings.catch_warnings():\n",
    "        warnings.simplefilter(\"ignore\")\n",
    "        sampler_par = pickle.load(open('./sampler_noGI_newimg_w128_s100.pkl','rb'))\n",
    "        sampler_par.pool = Pool(8)\n",
    "        _ = sampler_par.run_mcmc(None, 400, progress=True)\n",
    "        pickle.dump(sampler_par, open('./sampler_noGI_newimg_w128_s500.pkl','wb'))"
   ]
  },
  {
   "cell_type": "code",
   "execution_count": null,
   "id": "034c84b1",
   "metadata": {},
   "outputs": [],
   "source": [
    "if True:\n",
    "    with warnings.catch_warnings():\n",
    "        warnings.simplefilter(\"ignore\")\n",
    "        sampler_par = pickle.load(open('./sampler_noGI_newimg_w128_s500.pkl','rb'))\n",
    "        sampler_par.pool = Pool(8)\n",
    "        _ = sampler_par.run_mcmc(None, 500, progress=True)\n",
    "        pickle.dump(sampler_par, open('./sampler_noGI_newimg_w128_s1000.pkl','wb'))"
   ]
  }
 ],
 "metadata": {
  "kernelspec": {
   "display_name": "Python 3 (ipykernel)",
   "language": "python",
   "name": "python3"
  },
  "language_info": {
   "codemirror_mode": {
    "name": "ipython",
    "version": 3
   },
   "file_extension": ".py",
   "mimetype": "text/x-python",
   "name": "python",
   "nbconvert_exporter": "python",
   "pygments_lexer": "ipython3",
   "version": "3.11.4"
  }
 },
 "nbformat": 4,
 "nbformat_minor": 5
}
