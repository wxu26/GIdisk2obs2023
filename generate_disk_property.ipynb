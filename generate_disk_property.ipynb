{
 "cells": [
  {
   "cell_type": "markdown",
   "id": "c4fd0cdc-f197-4747-b2ac-5de4a1533ebd",
   "metadata": {},
   "source": [
    "# Compute and save a table containg disk properties\n",
    "\n",
    "The table saves disk properties (tau_P, tau_R, Sigma, cs, T_mid) on a grid of a_max, q, T_eff, and x. Here x is a proxy of Sigma/cs (see below).\n",
    "\n",
    "At each set of (a_max, q, T_eff), only a finite range of (Sigma/cs) is possible. The min/max possible (Sigma/cs) are also stored in the table, and we linearly map the whole range of possible log(Sigma/cs) to x in [0,1]. This allows us to save the whole range of possible disk properties at given (a_max, q, T_eff)."
   ]
  },
  {
   "cell_type": "code",
   "execution_count": 1,
   "id": "70d6768e",
   "metadata": {},
   "outputs": [],
   "source": [
    "from util import *\n",
    "import matplotlib.pyplot as plt\n",
    "from interp_table import InterpTable\n",
    "import pickle"
   ]
  },
  {
   "cell_type": "code",
   "execution_count": 2,
   "id": "2d61fc79",
   "metadata": {},
   "outputs": [],
   "source": [
    "def T_from_tau(tau, T_eff, tau_r_mid, tau_p_mid):\n",
    "    # get temperature at given tau (tau=tau_r)\n",
    "    # Hubeny 1990 Eq 3.11\n",
    "    T = T_eff * ( 3/4*(tau*(1-tau/(2*tau_r_mid)) + 1/np.sqrt(3) + 1/(3*tau_p_mid)) )**(1/4)\n",
    "    return T\n",
    "def tau_from_T(T, T_eff, tau_r_mid, tau_p_mid):\n",
    "    # returns: (1) tau_R for this T, (2) whether this T is reachable in the given vertical temperature profile\n",
    "    # Hubeny 1990 Eq 3.11\n",
    "    T_ends = T_from_tau(np.array([0,tau_r_mid]), T_eff, tau_r_mid, tau_p_mid)\n",
    "    # check whether temperature is reachable\n",
    "    if T>=T_ends[1]:\n",
    "        return tau_r_mid, False\n",
    "    if T<=T_ends[0]:\n",
    "        return 0, False\n",
    "    a = -1/(2*tau_r_mid)\n",
    "    b = 1\n",
    "    c = 1/np.sqrt(3) + 1/3/(tau_p_mid) - T**4/(3/4*T_eff**4)\n",
    "    tau = (-b+np.sqrt(b**2-4*a*c)) / (2*a)\n",
    "    return tau, True\n",
    "def vertical_profile_from_tau_mid(T_eff, tau_r_mid, tau_p_mid, f_kappa_r, f_kappa_p, T_crit):\n",
    "    # generate vertical profile from given T_eff, tau_r_mid, and tau_p_mid\n",
    "    # f_kappa_r, f_kappa_p are functions that takes T and returns opacity\n",
    "    \n",
    "    # generate tau grid\n",
    "    N_tau = 100\n",
    "    tauf = np.linspace(0,tau_r_mid,N_tau)\n",
    "    tauf = tauf.tolist()\n",
    "    # add critical temperatures\n",
    "    for T_crit_one in T_crit:\n",
    "        tau_crit, in_range = tau_from_T(T_crit_one, T_eff, tau_r_mid, tau_p_mid)\n",
    "        if in_range:\n",
    "            tauf.append(tau_crit)\n",
    "    tauf = np.sort(np.array(tauf))\n",
    "    tau = (tauf[1:]+tauf[:-1])/2\n",
    "    dtau = tauf[1:]-tauf[:-1]\n",
    "    T = T_from_tau(tau, T_eff, tau_r_mid, tau_p_mid)\n",
    "    T_mid = T_from_tau(tau_r_mid, T_eff, tau_r_mid, tau_p_mid)\n",
    "    kappa_r = f_kappa_r(T)\n",
    "    kappa_p = f_kappa_p(T)\n",
    "    cs = get_cs(T)\n",
    "    Sigma = 2*np.sum(dtau/kappa_r)\n",
    "    mean_cs = np.sum(cs*dtau/kappa_r)/np.sum(dtau/kappa_r)\n",
    "    tau_p_mid_actual = np.sum(dtau*kappa_p/kappa_r)\n",
    "    tau_p_over_tau_r_actual = tau_p_mid_actual/tau_r_mid\n",
    "    return Sigma, mean_cs, T_mid, tau_p_over_tau_r_actual\n",
    "def solve_vertical_profile_from_tau_p(T_eff, tau_p_mid, f_kappa_r, f_kappa_p, T_crit):\n",
    "    # solve disk profile at given tau_p\n",
    "    # this iteratively updates tau_r and calls vertical_profile_from_tau_mid()\n",
    "    # as long as kappa>0, any tau_p should still correspond to some profile\n",
    "    tau_r_mid = tau_p_mid\n",
    "    err = 1\n",
    "    err_tol = 1e-8\n",
    "    n_itr = 0\n",
    "    n_itr_max = 200\n",
    "    while n_itr<n_itr_max and err>err_tol:\n",
    "        n_itr += 1\n",
    "        res = vertical_profile_from_tau_mid(T_eff, tau_r_mid, tau_p_mid, f_kappa_r, f_kappa_p, T_crit)\n",
    "        tau_r_mid_actual = tau_p_mid / res[-1]\n",
    "        err = np.abs(tau_r_mid_actual/tau_r_mid - 1)\n",
    "        tau_r_mid = tau_r_mid_actual\n",
    "    Sigma, mean_cs, T_mid, tau_p_over_tau_r_actual = vertical_profile_from_tau_mid(T_eff, tau_r_mid, tau_p_mid, f_kappa_r, f_kappa_p, T_crit)\n",
    "    return tau_r_mid, Sigma, mean_cs, T_mid"
   ]
  },
  {
   "cell_type": "code",
   "execution_count": 3,
   "id": "dbc2f6cc",
   "metadata": {},
   "outputs": [],
   "source": [
    "def generate_vertical_profile_at_T_eff(T_eff, f_kappa_r, f_kappa_p, T_crit, N_Sigma_cs=20):\n",
    "    tau_p_list = []\n",
    "    tau_r_list = []\n",
    "    Sigma_list = []\n",
    "    cs_list = []\n",
    "    T_mid_list = []\n",
    "\n",
    "    # start at tau_p = 1, go in two directions\n",
    "    \n",
    "    dtau = 0.2\n",
    "    N_tau_max = 100 # max n_steps in each direction\n",
    "    speed_up_factor = 1/50\n",
    "    T_subl = T_crit[-1]\n",
    "\n",
    "    tau_p = 1\n",
    "    subl = False\n",
    "    n_itr = 0\n",
    "    min_Sigma_cs = np.inf\n",
    "    while n_itr<N_tau_max and (not subl or tau_p>.1):\n",
    "        n_itr += 1\n",
    "        res = solve_vertical_profile_from_tau_p(T_eff, tau_p, f_kappa_r, f_kappa_p, T_crit)\n",
    "        if (res[1]/res[2])<min_Sigma_cs:\n",
    "            # only include this point if it probes a lower Sigma/cs.\n",
    "            # this avoids having a single Sigma/cs mapping to multiple states.\n",
    "            # generally this selection criterion corresponds to prefering the state with lower T_mid.\n",
    "            min_Sigma_cs = res[1]/res[2]\n",
    "            tau_p_list.append(tau_p)\n",
    "            tau_r_list.append(res[0])\n",
    "            Sigma_list.append(res[1])\n",
    "            cs_list.append(res[2])\n",
    "            T_mid_list.append(res[3])\n",
    "        subl = res[3]>T_subl\n",
    "        tau_p = tau_p/(1+dtau)**(1+n_itr*speed_up_factor)\n",
    "\n",
    "    tau_p_list = tau_p_list[::-1]\n",
    "    tau_r_list = tau_r_list[::-1]\n",
    "    Sigma_list = Sigma_list[::-1]\n",
    "    cs_list = cs_list[::-1]\n",
    "    T_mid_list = T_mid_list[::-1]\n",
    "\n",
    "    tau_p = 1\n",
    "    subl = False\n",
    "    n_itr = 0\n",
    "    while n_itr<N_tau_max and (not subl or tau_p<10):\n",
    "        tau_p = tau_p*(1+dtau)**(1+n_itr*speed_up_factor)\n",
    "        n_itr += 1\n",
    "        res = solve_vertical_profile_from_tau_p(T_eff, tau_p, f_kappa_r, f_kappa_p, T_crit)\n",
    "        tau_p_list.append(tau_p)\n",
    "        tau_r_list.append(res[0])\n",
    "        Sigma_list.append(res[1])\n",
    "        cs_list.append(res[2])\n",
    "        T_mid_list.append(res[3])\n",
    "        subl = res[3]>T_subl\n",
    "\n",
    "    tau_p_list = np.array(tau_p_list)\n",
    "    tau_r_list = np.array(tau_r_list)\n",
    "    Sigma_list = np.array(Sigma_list)\n",
    "    cs_list = np.array(cs_list)\n",
    "    T_mid_list = np.array(T_mid_list)\n",
    "    \n",
    "    # get rid of points with T>T_subl\n",
    "    Sigma_cs_min = (Sigma_list/cs_list)[np.argmin(T_mid_list)]\n",
    "    tau_p_list = tau_p_list[T_mid_list<T_subl]\n",
    "    tau_r_list = tau_r_list[T_mid_list<T_subl]\n",
    "    Sigma_list = Sigma_list[T_mid_list<T_subl]\n",
    "    cs_list = cs_list[T_mid_list<T_subl]\n",
    "    T_mid_list = T_mid_list[T_mid_list<T_subl]\n",
    "    \n",
    "    x = np.linspace(0,1,N_Sigma_cs)\n",
    "    \n",
    "    if len(T_mid_list) < 2:\n",
    "        Sigma_cs_l = Sigma_cs_min\n",
    "        Sigma_cs_r = Sigma_cs_min\n",
    "        tau_p = np.ones_like(x) * small_number\n",
    "        tau_r = np.ones_like(x) * small_number\n",
    "        Sigma = np.ones_like(x) * small_number\n",
    "        cs = np.ones_like(x) * small_number\n",
    "        T_mid = np.ones_like(x) * small_number\n",
    "    else:\n",
    "        # find critiical Sigma/cs (when T_mid=T_subl)\n",
    "        f_Sigma_cs_l = interp1d_log(T_mid_list[:2], (Sigma_list/cs_list)[:2])\n",
    "        f_Sigma_cs_r = interp1d_log(T_mid_list[-2:], (Sigma_list/cs_list)[-2:])\n",
    "        Sigma_cs_l = f_Sigma_cs_l(T_subl)\n",
    "        Sigma_cs_r = f_Sigma_cs_r(T_subl)\n",
    "        # remap data between critical values\n",
    "        Sigma_cs = Sigma_cs_l * (Sigma_cs_r/Sigma_cs_l)**x\n",
    "        f_tau_p = interp1d_log(Sigma_list/cs_list, tau_p_list)\n",
    "        f_tau_r = interp1d_log(Sigma_list/cs_list, tau_r_list)\n",
    "        f_Sigma = interp1d_log(Sigma_list/cs_list, Sigma_list)\n",
    "        f_cs    = interp1d_log(Sigma_list/cs_list, cs_list)\n",
    "        f_T_mid = interp1d_log(Sigma_list/cs_list, T_mid_list)\n",
    "        tau_p = f_tau_p(Sigma_cs)\n",
    "        tau_r = f_tau_r(Sigma_cs)\n",
    "        Sigma = f_Sigma(Sigma_cs)\n",
    "        cs    = f_cs(Sigma_cs)\n",
    "        T_mid = f_T_mid(Sigma_cs)\n",
    "\n",
    "    return [Sigma_cs_l, Sigma_cs_r], [tau_p, tau_r, Sigma, cs, T_mid]"
   ]
  },
  {
   "cell_type": "code",
   "execution_count": 4,
   "id": "e2415fb6",
   "metadata": {},
   "outputs": [],
   "source": [
    "disk_opacity = pickle.load(open('./data/opacity_tables/disk_opacity.pkl','rb'))"
   ]
  },
  {
   "cell_type": "code",
   "execution_count": 5,
   "id": "9e948abb",
   "metadata": {},
   "outputs": [
    {
     "data": {
      "text/plain": [
       "InterpTable object with 3 dims\n",
       "Axes:\n",
       "  [0] log_T, length=38\n",
       "  [1] log_amax, length=15\n",
       "  [2] q, length=5\n",
       "Data fields, shape=[38, 15, 5]:\n",
       "  log_kappa_abs_p\n",
       "  log_kappa_abs_r\n",
       "  log_kappa_sca_eff_p\n",
       "  log_kappa_sca_eff_r"
      ]
     },
     "execution_count": 5,
     "metadata": {},
     "output_type": "execute_result"
    }
   ],
   "source": [
    "disk_opacity"
   ]
  },
  {
   "cell_type": "code",
   "execution_count": 6,
   "id": "7e606763",
   "metadata": {},
   "outputs": [
    {
     "data": {
      "text/plain": [
       "array([   5.        ,    6.08678524,    7.40979091,    9.02036118,\n",
       "         10.98100025,   13.36779805,   16.27338316,   19.81051768,\n",
       "         24.11647331,   29.35835874,   35.73960492,   43.50785993,\n",
       "         52.9645999 ,   64.47682896,   78.49132213,   95.55196417,\n",
       "        116.32085698,  141.60401502,  149.99999999,  150.00000001,\n",
       "        172.38264564,  209.85122853,  255.46387198,  310.99074494,\n",
       "        378.58677506,  424.99999999,  425.00000001,  460.87527871,\n",
       "        561.04976856,  679.99999999,  680.00000001,  682.99788976,\n",
       "        831.45229452, 1012.1743104 , 1199.99999999, 1200.00000001,\n",
       "       1232.17753007, 1500.        ])"
      ]
     },
     "execution_count": 6,
     "metadata": {},
     "output_type": "execute_result"
    }
   ],
   "source": [
    "np.exp(disk_opacity.grid['log_T'])"
   ]
  },
  {
   "cell_type": "markdown",
   "id": "5f28275c-de01-4968-b31a-f5e96115f069",
   "metadata": {},
   "source": [
    "# Example: compute disk rpofile at given T_eff as a function of tau_p"
   ]
  },
  {
   "cell_type": "code",
   "execution_count": 7,
   "id": "027ee9ac",
   "metadata": {},
   "outputs": [],
   "source": [
    "disk_opacity_a = disk_opacity.replace_grid('log_amax', np.log(0.01))\n",
    "disk_opacity_aq = disk_opacity_a.replace_grid('q', 3.5)"
   ]
  },
  {
   "cell_type": "code",
   "execution_count": 8,
   "id": "c8a404c5",
   "metadata": {},
   "outputs": [],
   "source": [
    "f_kappa_r = lambda T: disk_opacity_aq.interp('log_kappa_abs_r', log_T=T, loglog=True)\n",
    "f_kappa_p = lambda T: disk_opacity_aq.interp('log_kappa_abs_p', log_T=T, loglog=True)"
   ]
  },
  {
   "cell_type": "code",
   "execution_count": 9,
   "id": "7b35d6e3",
   "metadata": {},
   "outputs": [],
   "source": [
    "T_eff = 100\n",
    "tau_p_mid = np.logspace(-4, 2, 200)\n",
    "Sigma = []\n",
    "cs = []\n",
    "T_mid = []\n",
    "for t in tau_p_mid:\n",
    "    res = solve_vertical_profile_from_tau_p(T_eff, t, f_kappa_r, f_kappa_p, [150, 425, 680, 1200])\n",
    "    Sigma.append(res[1])\n",
    "    cs.append(res[2])\n",
    "    T_mid.append(res[3])"
   ]
  },
  {
   "cell_type": "code",
   "execution_count": 10,
   "id": "c5a48cbe",
   "metadata": {},
   "outputs": [
    {
     "name": "stdout",
     "output_type": "stream",
     "text": [
      "101.52354528052032\n"
     ]
    },
    {
     "data": {
      "text/plain": [
       "Text(0.5, 1.0, 'at T_eff = 100K')"
      ]
     },
     "execution_count": 10,
     "metadata": {},
     "output_type": "execute_result"
    },
    {
     "data": {
      "image/png": "[encoded data removed]",
      "text/plain": [
       "<Figure size 640x480 with 1 Axes>"
      ]
     },
     "metadata": {},
     "output_type": "display_data"
    }
   ],
   "source": [
    "#plt.plot(tau_p_mid, Sigma)\n",
    "#plt.plot(tau_p_mid, cs)\n",
    "plt.plot(tau_p_mid, T_mid)\n",
    "print(np.amin(T_mid))\n",
    "plt.xscale('log')\n",
    "plt.yscale('log')\n",
    "plt.xlabel('tau_p at midplane')\n",
    "plt.ylabel('T_mid [K]')\n",
    "plt.title('at T_eff = 100K')"
   ]
  },
  {
   "cell_type": "code",
   "execution_count": 11,
   "id": "f3ba26cc",
   "metadata": {},
   "outputs": [
    {
     "data": {
      "text/plain": [
       "Text(0.5, 1.0, 'at T_eff = 100K')"
      ]
     },
     "execution_count": 11,
     "metadata": {},
     "output_type": "execute_result"
    },
    {
     "data": {
      "image/png": "[encoded data removed]",
      "text/plain": [
       "<Figure size 640x480 with 1 Axes>"
      ]
     },
     "metadata": {},
     "output_type": "display_data"
    }
   ],
   "source": [
    "T_eff = 100\n",
    "bounds, properties = generate_vertical_profile_at_T_eff(T_eff, f_kappa_r, f_kappa_p, [150, 425, 680, 1200], N_Sigma_cs=20)\n",
    "x = np.linspace(0,1,len(properties[0]))\n",
    "Sigma_cs = bounds[0] * (bounds[1]/bounds[0])**x\n",
    "plt.plot(Sigma_cs,properties[2])\n",
    "plt.xscale('log')\n",
    "plt.yscale('log')\n",
    "plt.xlabel('Sigma/cs')\n",
    "plt.ylabel('Sigma [K]')\n",
    "plt.title('at T_eff = 100K')"
   ]
  },
  {
   "cell_type": "code",
   "execution_count": 12,
   "id": "d8a61948",
   "metadata": {},
   "outputs": [],
   "source": [
    "def generate_disk_property_table(disk_opacity, T_crit=[150, 425, 680, 1200], T_eff_min=0.5, T_eff_max=1500, N_T_eff=30, N_Sigma_cs=20):\n",
    "    disk_property_table = InterpTable()\n",
    "    disk_property_table.add_grid('log_amax', disk_opacity.grid['log_amax'])\n",
    "    disk_property_table.add_grid('q', disk_opacity.grid['q'])\n",
    "    T_eff = np.logspace(np.log10(T_eff_min), np.log10(T_eff_max), N_T_eff)\n",
    "    disk_property_table.add_grid('log_T_eff', np.log(T_eff))\n",
    "    disk_property_table.add_grid('x', np.linspace(0,1,N_Sigma_cs))\n",
    "    disk_property_table.add_data('log_Sigma_cs_l')\n",
    "    disk_property_table.add_data('log_Sigma_cs_r')\n",
    "    disk_property_table.add_data('log_tau_p')\n",
    "    disk_property_table.add_data('log_tau_r')\n",
    "    disk_property_table.add_data('log_Sigma')\n",
    "    disk_property_table.add_data('log_cs')\n",
    "    disk_property_table.add_data('log_T_mid')\n",
    "    for ia,log_amax in enumerate(disk_property_table.grid['log_amax']):\n",
    "        for iq,q in enumerate(disk_property_table.grid['q']):\n",
    "            print('computing a_max = {}, q = {}'.format(np.exp(log_amax), q))\n",
    "            disk_opacity_a = disk_opacity.replace_grid('log_amax', log_amax)\n",
    "            disk_opacity_aq = disk_opacity_a.replace_grid('q', q)\n",
    "            f_kappa_r = lambda T: disk_opacity_aq.interp('log_kappa_abs_r', log_T=T, loglog=True)\n",
    "            f_kappa_p = lambda T: disk_opacity_aq.interp('log_kappa_abs_p', log_T=T, loglog=True)\n",
    "            for iT,T_eff_1 in enumerate(T_eff):\n",
    "                bounds, properties = generate_vertical_profile_at_T_eff(T_eff_1, f_kappa_r, f_kappa_p, T_crit, N_Sigma_cs=N_Sigma_cs)\n",
    "                disk_property_table.data['log_Sigma_cs_l'][ia, iq, iT, :] = np.log(bounds[0])\n",
    "                disk_property_table.data['log_Sigma_cs_r'][ia, iq, iT, :] = np.log(bounds[1])\n",
    "                disk_property_table.data['log_tau_p'][ia, iq, iT, :] = np.log(properties[0])\n",
    "                disk_property_table.data['log_tau_r'][ia, iq, iT, :] = np.log(properties[1])\n",
    "                disk_property_table.data['log_Sigma'][ia, iq, iT, :] = np.log(properties[2])\n",
    "                disk_property_table.data['log_cs'][ia, iq, iT, :] = np.log(properties[3])\n",
    "                disk_property_table.data['log_T_mid'][ia, iq, iT, :] = np.log(properties[4])\n",
    "    disk_property_table.create_interp_fn_all_data()\n",
    "    return disk_property_table"
   ]
  },
  {
   "cell_type": "markdown",
   "id": "724bb58c-d04e-47db-bd7b-63e8a7a98bc2",
   "metadata": {},
   "source": [
    "### a_max and q grids are taken from the disk opacity table. T_eff and x grids can be specified below."
   ]
  },
  {
   "cell_type": "code",
   "execution_count": 13,
   "id": "9c078707",
   "metadata": {},
   "outputs": [
    {
     "name": "stdout",
     "output_type": "stream",
     "text": [
      "computing a_max = 1.0000000000000004e-06, q = 2.5\n",
      "computing a_max = 1.0000000000000004e-06, q = 2.75\n",
      "computing a_max = 1.0000000000000004e-06, q = 3.0\n",
      "computing a_max = 1.0000000000000004e-06, q = 3.25\n",
      "computing a_max = 1.0000000000000004e-06, q = 3.5\n",
      "computing a_max = 3.162277660168377e-06, q = 2.5\n",
      "computing a_max = 3.162277660168377e-06, q = 2.75\n",
      "computing a_max = 3.162277660168377e-06, q = 3.0\n",
      "computing a_max = 3.162277660168377e-06, q = 3.25\n",
      "computing a_max = 3.162277660168377e-06, q = 3.5\n",
      "computing a_max = 9.999999999999997e-06, q = 2.5\n",
      "computing a_max = 9.999999999999997e-06, q = 2.75\n",
      "computing a_max = 9.999999999999997e-06, q = 3.0\n",
      "computing a_max = 9.999999999999997e-06, q = 3.25\n",
      "computing a_max = 9.999999999999997e-06, q = 3.5\n",
      "computing a_max = 3.16227766016838e-05, q = 2.5\n",
      "computing a_max = 3.16227766016838e-05, q = 2.75\n",
      "computing a_max = 3.16227766016838e-05, q = 3.0\n",
      "computing a_max = 3.16227766016838e-05, q = 3.25\n",
      "computing a_max = 3.16227766016838e-05, q = 3.5\n",
      "computing a_max = 0.00010000000000000009, q = 2.5\n",
      "computing a_max = 0.00010000000000000009, q = 2.75\n",
      "computing a_max = 0.00010000000000000009, q = 3.0\n",
      "computing a_max = 0.00010000000000000009, q = 3.25\n",
      "computing a_max = 0.00010000000000000009, q = 3.5\n",
      "computing a_max = 0.00031622776601683783, q = 2.5\n",
      "computing a_max = 0.00031622776601683783, q = 2.75\n",
      "computing a_max = 0.00031622776601683783, q = 3.0\n",
      "computing a_max = 0.00031622776601683783, q = 3.25\n",
      "computing a_max = 0.00031622776601683783, q = 3.5\n",
      "computing a_max = 0.0010000000000000002, q = 2.5\n",
      "computing a_max = 0.0010000000000000002, q = 2.75\n",
      "computing a_max = 0.0010000000000000002, q = 3.0\n",
      "computing a_max = 0.0010000000000000002, q = 3.25\n",
      "computing a_max = 0.0010000000000000002, q = 3.5\n",
      "computing a_max = 0.003162277660168379, q = 2.5\n",
      "computing a_max = 0.003162277660168379, q = 2.75\n",
      "computing a_max = 0.003162277660168379, q = 3.0\n",
      "computing a_max = 0.003162277660168379, q = 3.25\n",
      "computing a_max = 0.003162277660168379, q = 3.5\n",
      "computing a_max = 0.010000000000000005, q = 2.5\n",
      "computing a_max = 0.010000000000000005, q = 2.75\n",
      "computing a_max = 0.010000000000000005, q = 3.0\n",
      "computing a_max = 0.010000000000000005, q = 3.25\n",
      "computing a_max = 0.010000000000000005, q = 3.5\n",
      "computing a_max = 0.0316227766016838, q = 2.5\n",
      "computing a_max = 0.0316227766016838, q = 2.75\n",
      "computing a_max = 0.0316227766016838, q = 3.0\n",
      "computing a_max = 0.0316227766016838, q = 3.25\n",
      "computing a_max = 0.0316227766016838, q = 3.5\n",
      "computing a_max = 0.10000000000000002, q = 2.5\n",
      "computing a_max = 0.10000000000000002, q = 2.75\n",
      "computing a_max = 0.10000000000000002, q = 3.0\n",
      "computing a_max = 0.10000000000000002, q = 3.25\n",
      "computing a_max = 0.10000000000000002, q = 3.5\n",
      "computing a_max = 0.316227766016838, q = 2.5\n",
      "computing a_max = 0.316227766016838, q = 2.75\n",
      "computing a_max = 0.316227766016838, q = 3.0\n",
      "computing a_max = 0.316227766016838, q = 3.25\n",
      "computing a_max = 0.316227766016838, q = 3.5\n",
      "computing a_max = 1.0, q = 2.5\n",
      "computing a_max = 1.0, q = 2.75\n",
      "computing a_max = 1.0, q = 3.0\n",
      "computing a_max = 1.0, q = 3.25\n",
      "computing a_max = 1.0, q = 3.5\n",
      "computing a_max = 3.1622776601683795, q = 2.5\n",
      "computing a_max = 3.1622776601683795, q = 2.75\n",
      "computing a_max = 3.1622776601683795, q = 3.0\n",
      "computing a_max = 3.1622776601683795, q = 3.25\n",
      "computing a_max = 3.1622776601683795, q = 3.5\n",
      "computing a_max = 10.000000000000002, q = 2.5\n",
      "computing a_max = 10.000000000000002, q = 2.75\n",
      "computing a_max = 10.000000000000002, q = 3.0\n",
      "computing a_max = 10.000000000000002, q = 3.25\n",
      "computing a_max = 10.000000000000002, q = 3.5\n"
     ]
    }
   ],
   "source": [
    "disk_property_table = generate_disk_property_table(disk_opacity,\n",
    "                        T_eff_min=0.5, T_eff_max=1500, N_T_eff=30, N_Sigma_cs=20)"
   ]
  },
  {
   "cell_type": "code",
   "execution_count": 14,
   "id": "ed9081b4",
   "metadata": {},
   "outputs": [
    {
     "data": {
      "text/plain": [
       "InterpTable object with 4 dims\n",
       "Axes:\n",
       "  [0] log_amax, length=15\n",
       "  [1] q, length=5\n",
       "  [2] log_T_eff, length=30\n",
       "  [3] x, length=20\n",
       "Data fields, shape=[15, 5, 30, 20]:\n",
       "  log_Sigma_cs_l\n",
       "  log_Sigma_cs_r\n",
       "  log_tau_p\n",
       "  log_tau_r\n",
       "  log_Sigma\n",
       "  log_cs\n",
       "  log_T_mid"
      ]
     },
     "execution_count": 14,
     "metadata": {},
     "output_type": "execute_result"
    }
   ],
   "source": [
    "disk_property_table"
   ]
  },
  {
   "cell_type": "code",
   "execution_count": 15,
   "id": "f836062e",
   "metadata": {},
   "outputs": [],
   "source": [
    "save_disk_property = False\n",
    "if save_disk_property:\n",
    "    pickle.dump(disk_property_table, open('./data/opacity_tables/disk_property.pkl','wb'))"
   ]
  }
 ],
 "metadata": {
  "kernelspec": {
   "display_name": "Python 3 (ipykernel)",
   "language": "python",
   "name": "python3"
  },
  "language_info": {
   "codemirror_mode": {
    "name": "ipython",
    "version": 3
   },
   "file_extension": ".py",
   "mimetype": "text/x-python",
   "name": "python",
   "nbconvert_exporter": "python",
   "pygments_lexer": "ipython3",
   "version": "3.11.4"
  }
 },
 "nbformat": 4,
 "nbformat_minor": 5
}
